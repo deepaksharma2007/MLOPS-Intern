{
 "cells": [
  {
   "cell_type": "markdown",
   "id": "f0d01f6f",
   "metadata": {},
   "source": [
    "# Create 2-d Image"
   ]
  },
  {
   "cell_type": "code",
   "execution_count": 1,
   "id": "2d956c19",
   "metadata": {},
   "outputs": [],
   "source": [
    "import cv2"
   ]
  },
  {
   "cell_type": "code",
   "execution_count": 2,
   "id": "d445ef0d",
   "metadata": {},
   "outputs": [],
   "source": [
    "import numpy as np"
   ]
  },
  {
   "cell_type": "code",
   "execution_count": 3,
   "id": "8026b856",
   "metadata": {},
   "outputs": [],
   "source": [
    "cn1 = np.zeros( (500,500 ))"
   ]
  },
  {
   "cell_type": "code",
   "execution_count": 4,
   "id": "dc84195e",
   "metadata": {},
   "outputs": [],
   "source": [
    "# Change background to white\n",
    "# cn[:]=1"
   ]
  },
  {
   "cell_type": "code",
   "execution_count": 5,
   "id": "6c1f1839",
   "metadata": {},
   "outputs": [
    {
     "data": {
      "text/plain": [
       "(500, 500)"
      ]
     },
     "execution_count": 5,
     "metadata": {},
     "output_type": "execute_result"
    }
   ],
   "source": [
    "# 2-D image\n",
    "cn1.shape"
   ]
  },
  {
   "cell_type": "markdown",
   "id": "06e4ee28",
   "metadata": {},
   "source": [
    "# Created Image:- A black 500*500 pixels Image"
   ]
  },
  {
   "cell_type": "code",
   "execution_count": 6,
   "id": "1f46fa57",
   "metadata": {},
   "outputs": [],
   "source": [
    "# Created Image:- A black 500*500 pixels Image\n",
    "cv2.imshow('2-D Image' ,cn1)\n",
    "cv2.waitKey()\n",
    "cv2.destroyAllWindows()"
   ]
  },
  {
   "cell_type": "code",
   "execution_count": null,
   "id": "3f2150ed",
   "metadata": {},
   "outputs": [],
   "source": []
  },
  {
   "cell_type": "markdown",
   "id": "24117dac",
   "metadata": {},
   "source": [
    "# Operations on Image"
   ]
  },
  {
   "cell_type": "code",
   "execution_count": 7,
   "id": "8eefd3a7",
   "metadata": {},
   "outputs": [],
   "source": [
    "# Draw triangle\n",
    "circle_image = cv2.line( cn1 , (250,50) , (180 ,150) ,[255] , 3 ) \n",
    "circle_image = cv2.line( cn1 , (250,50) , (320 ,150) ,[255] , 3 ) \n",
    "circle_image = cv2.line( cn1 , (180 ,150) , (320 ,150) ,[255] , 3 ) \n",
    "\n",
    "#Draw Circle\n",
    "circle_image = cv2.circle(circle_image , (250,200), 35 ,[255] , 3 )\n",
    "\n",
    "# Draw Rectangle\n",
    "circle_image= cv2.rectangle(circle_image , (180, 150), (320, 250) ,[255], 3)\n",
    "\n",
    "# Draw Lines\n",
    "circle_image = cv2.line( circle_image , (180 ,250) , (150 ,280) ,[255] , 3 ) \n",
    "circle_image = cv2.line( circle_image , (320 ,250) , (350 ,280) ,[255] , 3 ) \n",
    "circle_image = cv2.line( circle_image , (350 ,280) , (150 ,280) ,[255] , 3 ) \n",
    "\n",
    "# Draw Rectangles\n",
    "circle_image= cv2.rectangle(circle_image , (150, 280), (350, 400) ,[255] , 3)\n",
    "circle_image1= cv2.rectangle(circle_image , (150, 400), (350, 440) ,[255] , 3)"
   ]
  },
  {
   "cell_type": "code",
   "execution_count": null,
   "id": "10c23729",
   "metadata": {},
   "outputs": [],
   "source": []
  },
  {
   "cell_type": "markdown",
   "id": "57388de2",
   "metadata": {},
   "source": [
    "# Final 2-D Image"
   ]
  },
  {
   "cell_type": "code",
   "execution_count": 8,
   "id": "c5fa1486",
   "metadata": {},
   "outputs": [],
   "source": [
    "# Final Image\n",
    "cv2.imshow('2-D Image created by Deepak' ,circle_image1)\n",
    "cv2.waitKey()    \n",
    "cv2.destroyAllWindows()"
   ]
  },
  {
   "cell_type": "code",
   "execution_count": null,
   "id": "593000ac",
   "metadata": {},
   "outputs": [],
   "source": []
  },
  {
   "cell_type": "code",
   "execution_count": null,
   "id": "86cc0277",
   "metadata": {},
   "outputs": [],
   "source": []
  },
  {
   "cell_type": "markdown",
   "id": "fb1039a4",
   "metadata": {},
   "source": [
    "# Colourful Image (3-D)"
   ]
  },
  {
   "cell_type": "code",
   "execution_count": 9,
   "id": "37dffc30",
   "metadata": {},
   "outputs": [],
   "source": [
    "import cv2"
   ]
  },
  {
   "cell_type": "code",
   "execution_count": 10,
   "id": "7ac348a8",
   "metadata": {},
   "outputs": [],
   "source": [
    "import numpy as np"
   ]
  },
  {
   "cell_type": "code",
   "execution_count": 11,
   "id": "b1e36323",
   "metadata": {},
   "outputs": [],
   "source": [
    "# 3-d Image\n",
    "cn = np.zeros( (500,500,3) )"
   ]
  },
  {
   "cell_type": "code",
   "execution_count": 12,
   "id": "08727c82",
   "metadata": {},
   "outputs": [
    {
     "data": {
      "text/plain": [
       "(500, 500, 3)"
      ]
     },
     "execution_count": 12,
     "metadata": {},
     "output_type": "execute_result"
    }
   ],
   "source": [
    "cn.shape"
   ]
  },
  {
   "cell_type": "code",
   "execution_count": 13,
   "id": "70d39c3c",
   "metadata": {},
   "outputs": [],
   "source": [
    "# Change backgrund colur :-white:- \n",
    "cn[ : ] = 255\n",
    "# Red:- cn[:] = [0,0,255]"
   ]
  },
  {
   "cell_type": "code",
   "execution_count": 14,
   "id": "80f6d391",
   "metadata": {},
   "outputs": [],
   "source": [
    "# cn"
   ]
  },
  {
   "cell_type": "markdown",
   "id": "3d65e00c",
   "metadata": {},
   "source": [
    "# Created Image:- A black 500*500 pixels Image"
   ]
  },
  {
   "cell_type": "code",
   "execution_count": 15,
   "id": "fd898add",
   "metadata": {},
   "outputs": [],
   "source": [
    "# Created Image:- A black 500*500 pixels Image\n",
    "cv2.imshow('3-D Image' ,cn)\n",
    "cv2.waitKey()\n",
    "cv2.destroyAllWindows()"
   ]
  },
  {
   "cell_type": "code",
   "execution_count": null,
   "id": "9287c2ec",
   "metadata": {},
   "outputs": [],
   "source": []
  },
  {
   "cell_type": "markdown",
   "id": "a6b7c6a4",
   "metadata": {},
   "source": [
    "# Operations on Image"
   ]
  },
  {
   "cell_type": "code",
   "execution_count": 16,
   "id": "4b12619e",
   "metadata": {},
   "outputs": [],
   "source": [
    "# Draw triangle\n",
    "circle_image = cv2.line( cn , (250,50) , (180 ,150) ,[0] , 5 ) \n",
    "circle_image = cv2.line( cn , (250,50) , (320 ,150) ,[0] , 5 ) \n",
    "\n",
    "\n",
    "pts  = np.array([[180,150] , [250,50], [320,150]])\n",
    "circle_image = cv2.polylines(circle_image , [pts] , True , [0,255,255])\n",
    "circle_image = cv2.fillPoly(circle_image, [pts], (0,255,255))\n",
    "\n",
    "circle_image = cv2.line( cn , (180 ,150) , (320 ,150) ,[0] , 5 )\n",
    "\n",
    "# Draw Rectangle\n",
    "circle_image= cv2.rectangle(circle_image , (180, 150), (320, 250) ,[0] , 3)\n",
    "cn= cv2.rectangle(cn , (180, 150), (320, 250) ,(0,0,255) , -1)\n",
    "\n",
    "\n",
    "#Draw Circle\n",
    "circle_image = cv2.circle(circle_image , (250,200), 35 , [0] , 3 )\n",
    "circle_image = cv2.circle(circle_image , (250,200), 35 , [255,0,0] , -1 )\n",
    "# \n",
    "\n",
    "\n",
    "\n",
    "# Draw Lines\n",
    "circle_image = cv2.line( circle_image , (180 ,250) , (150 ,280) ,[0] , 3 ) \n",
    "circle_image = cv2.line( circle_image , (320 ,250) , (350 ,280) ,[0] , 3 ) \n",
    "circle_image = cv2.line( circle_image , (350 ,280) , (150 ,280) ,[0] , 3 ) \n",
    "\n",
    "# Draw Rectangles\n",
    "circle_image= cv2.rectangle(circle_image , (150, 280), (350, 400) ,[0] , 3)\n",
    "circle_image= cv2.rectangle(circle_image , (150, 280), (350, 400) ,[255,255,0] , -1)\n",
    "circle_image= cv2.rectangle(circle_image , (150, 400), (350, 440) ,[0] , 3)\n",
    "circle_image= cv2.rectangle(circle_image , (150, 400), (350, 440) ,[0,255,0] , -1)\n",
    "\n"
   ]
  },
  {
   "cell_type": "markdown",
   "id": "8a123e95",
   "metadata": {},
   "source": [
    "#  Final Image"
   ]
  },
  {
   "cell_type": "code",
   "execution_count": 17,
   "id": "354aa977",
   "metadata": {},
   "outputs": [],
   "source": [
    "# Final Image\n",
    "cv2.imshow('Deepak Created Image' ,circle_image)\n",
    "cv2.waitKey()    \n",
    "cv2.destroyAllWindows()"
   ]
  },
  {
   "cell_type": "code",
   "execution_count": null,
   "id": "3a73d99f",
   "metadata": {},
   "outputs": [],
   "source": []
  },
  {
   "cell_type": "code",
   "execution_count": null,
   "id": "de5593ca",
   "metadata": {},
   "outputs": [],
   "source": []
  },
  {
   "cell_type": "code",
   "execution_count": null,
   "id": "8d935a79",
   "metadata": {},
   "outputs": [],
   "source": []
  },
  {
   "cell_type": "code",
   "execution_count": null,
   "id": "1af7385f",
   "metadata": {},
   "outputs": [],
   "source": []
  },
  {
   "cell_type": "code",
   "execution_count": null,
   "id": "9c5610f4",
   "metadata": {},
   "outputs": [],
   "source": []
  },
  {
   "cell_type": "code",
   "execution_count": null,
   "id": "5479ebdc",
   "metadata": {},
   "outputs": [],
   "source": []
  },
  {
   "cell_type": "code",
   "execution_count": null,
   "id": "fc1fa6d2",
   "metadata": {},
   "outputs": [],
   "source": []
  }
 ],
 "metadata": {
  "kernelspec": {
   "display_name": "Python 3",
   "language": "python",
   "name": "python3"
  },
  "language_info": {
   "codemirror_mode": {
    "name": "ipython",
    "version": 3
   },
   "file_extension": ".py",
   "mimetype": "text/x-python",
   "name": "python",
   "nbconvert_exporter": "python",
   "pygments_lexer": "ipython3",
   "version": "3.8.8"
  }
 },
 "nbformat": 4,
 "nbformat_minor": 5
}
