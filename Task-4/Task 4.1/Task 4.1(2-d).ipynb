{
 "cells": [
  {
   "cell_type": "markdown",
   "id": "5104b2d4",
   "metadata": {},
   "source": [
    "# Create 2-d Image"
   ]
  },
  {
   "cell_type": "code",
   "execution_count": null,
   "id": "991244c6",
   "metadata": {},
   "outputs": [],
   "source": [
    "import cv2"
   ]
  },
  {
   "cell_type": "code",
   "execution_count": 2,
   "id": "7ac348a8",
   "metadata": {},
   "outputs": [],
   "source": [
    "import numpy as np"
   ]
  },
  {
   "cell_type": "code",
   "execution_count": 3,
   "id": "b1e36323",
   "metadata": {},
   "outputs": [],
   "source": [
    "cn = np.zeros( (500,500 ))"
   ]
  },
  {
   "cell_type": "code",
   "execution_count": 4,
   "id": "bcc61cf6",
   "metadata": {},
   "outputs": [],
   "source": [
    "# Change background to white\n",
    "# cn[:]=1"
   ]
  },
  {
   "cell_type": "code",
   "execution_count": 5,
   "id": "08727c82",
   "metadata": {},
   "outputs": [
    {
     "data": {
      "text/plain": [
       "(500, 500)"
      ]
     },
     "execution_count": 5,
     "metadata": {},
     "output_type": "execute_result"
    }
   ],
   "source": [
    "cn.shape"
   ]
  },
  {
   "cell_type": "code",
   "execution_count": null,
   "id": "36b66bbd",
   "metadata": {},
   "outputs": [],
   "source": []
  },
  {
   "cell_type": "markdown",
   "id": "3d65e00c",
   "metadata": {},
   "source": [
    "# Created Image:- A black 500*500 pixels Image"
   ]
  },
  {
   "cell_type": "code",
   "execution_count": 6,
   "id": "fd898add",
   "metadata": {},
   "outputs": [],
   "source": [
    "# Created Image:- A black 500*500 pixels Image\n",
    "cv2.imshow('2-D Image' ,cn)\n",
    "cv2.waitKey()\n",
    "cv2.destroyAllWindows()"
   ]
  },
  {
   "cell_type": "code",
   "execution_count": null,
   "id": "9287c2ec",
   "metadata": {},
   "outputs": [],
   "source": []
  },
  {
   "cell_type": "markdown",
   "id": "a6b7c6a4",
   "metadata": {},
   "source": [
    "# Operations on Image"
   ]
  },
  {
   "cell_type": "code",
   "execution_count": 7,
   "id": "4b12619e",
   "metadata": {},
   "outputs": [],
   "source": [
    "# Draw triangle\n",
    "circle_image = cv2.line( cn , (250,50) , (180 ,150) ,[255] , 3 ) \n",
    "circle_image = cv2.line( cn , (250,50) , (320 ,150) ,[255] , 3 ) \n",
    "circle_image = cv2.line( cn , (180 ,150) , (320 ,150) ,[255] , 3 ) \n",
    "\n",
    "#Draw Circle\n",
    "circle_image = cv2.circle(circle_image , (250,200), 35 ,[255] , 3 )\n",
    "\n",
    "# Draw Rectangle\n",
    "circle_image= cv2.rectangle(circle_image , (180, 150), (320, 250) ,[255], 3)\n",
    "\n",
    "# Draw Lines\n",
    "circle_image = cv2.line( circle_image , (180 ,250) , (150 ,280) ,[255] , 3 ) \n",
    "circle_image = cv2.line( circle_image , (320 ,250) , (350 ,280) ,[255] , 3 ) \n",
    "circle_image = cv2.line( circle_image , (350 ,280) , (150 ,280) ,[255] , 3 ) \n",
    "\n",
    "# Draw Rectangles\n",
    "circle_image= cv2.rectangle(circle_image , (150, 280), (350, 400) ,[255] , 3)\n",
    "circle_image= cv2.rectangle(circle_image , (150, 400), (350, 440) ,[255] , 3)\n"
   ]
  },
  {
   "cell_type": "markdown",
   "id": "8a123e95",
   "metadata": {},
   "source": [
    "#  Final Image"
   ]
  },
  {
   "cell_type": "code",
   "execution_count": 8,
   "id": "354aa977",
   "metadata": {},
   "outputs": [],
   "source": [
    "# Final Image\n",
    "cv2.imshow('Image created by Deepak' ,circle_image)\n",
    "cv2.waitKey()    \n",
    "cv2.destroyAllWindows()"
   ]
  },
  {
   "cell_type": "code",
   "execution_count": null,
   "id": "2b174ac3",
   "metadata": {},
   "outputs": [],
   "source": []
  },
  {
   "cell_type": "code",
   "execution_count": null,
   "id": "55808977",
   "metadata": {},
   "outputs": [],
   "source": []
  },
  {
   "cell_type": "code",
   "execution_count": null,
   "id": "5d981579",
   "metadata": {},
   "outputs": [],
   "source": []
  },
  {
   "cell_type": "code",
   "execution_count": null,
   "id": "bb46c0f7",
   "metadata": {},
   "outputs": [],
   "source": []
  },
  {
   "cell_type": "code",
   "execution_count": null,
   "id": "a99b3bf4",
   "metadata": {},
   "outputs": [],
   "source": []
  },
  {
   "cell_type": "code",
   "execution_count": null,
   "id": "5479ebdc",
   "metadata": {},
   "outputs": [],
   "source": []
  },
  {
   "cell_type": "code",
   "execution_count": null,
   "id": "fc1fa6d2",
   "metadata": {},
   "outputs": [],
   "source": []
  }
 ],
 "metadata": {
  "kernelspec": {
   "display_name": "Python 3",
   "language": "python",
   "name": "python3"
  },
  "language_info": {
   "codemirror_mode": {
    "name": "ipython",
    "version": 3
   },
   "file_extension": ".py",
   "mimetype": "text/x-python",
   "name": "python",
   "nbconvert_exporter": "python",
   "pygments_lexer": "ipython3",
   "version": "3.8.8"
  }
 },
 "nbformat": 4,
 "nbformat_minor": 5
}
