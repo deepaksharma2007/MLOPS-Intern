{
 "cells": [
  {
   "cell_type": "code",
   "execution_count": 1,
   "id": "1961117e",
   "metadata": {},
   "outputs": [],
   "source": [
    "import cv2"
   ]
  },
  {
   "cell_type": "code",
   "execution_count": 21,
   "id": "2b4d4d84",
   "metadata": {},
   "outputs": [],
   "source": [
    "tiger = cv2.imread('Tiger1.jpg')"
   ]
  },
  {
   "cell_type": "code",
   "execution_count": 25,
   "id": "dc0c84dd",
   "metadata": {},
   "outputs": [
    {
     "data": {
      "text/plain": [
       "(700, 700, 3)"
      ]
     },
     "execution_count": 25,
     "metadata": {},
     "output_type": "execute_result"
    }
   ],
   "source": [
    "tiger.shape"
   ]
  },
  {
   "cell_type": "code",
   "execution_count": 23,
   "id": "6ab1348a",
   "metadata": {},
   "outputs": [],
   "source": [
    "dog = cv2.imread('Dog1.jpg')"
   ]
  },
  {
   "cell_type": "code",
   "execution_count": null,
   "id": "fe8f484d",
   "metadata": {},
   "outputs": [],
   "source": []
  },
  {
   "cell_type": "code",
   "execution_count": 22,
   "id": "b295a151",
   "metadata": {},
   "outputs": [],
   "source": [
    "cv2.imshow('Tiger' , tiger)\n",
    "cv2.waitKey()\n",
    "cv2.destroyAllWindows()"
   ]
  },
  {
   "cell_type": "code",
   "execution_count": 24,
   "id": "d4cc62b6",
   "metadata": {},
   "outputs": [],
   "source": [
    "cv2.imshow('Dog' , dog)\n",
    "cv2.waitKey()\n",
    "cv2.destroyAllWindows()"
   ]
  },
  {
   "cell_type": "code",
   "execution_count": null,
   "id": "ba029a09",
   "metadata": {},
   "outputs": [],
   "source": []
  }
 ],
 "metadata": {
  "kernelspec": {
   "display_name": "Python 3",
   "language": "python",
   "name": "python3"
  },
  "language_info": {
   "codemirror_mode": {
    "name": "ipython",
    "version": 3
   },
   "file_extension": ".py",
   "mimetype": "text/x-python",
   "name": "python",
   "nbconvert_exporter": "python",
   "pygments_lexer": "ipython3",
   "version": "3.8.8"
  }
 },
 "nbformat": 4,
 "nbformat_minor": 5
}
