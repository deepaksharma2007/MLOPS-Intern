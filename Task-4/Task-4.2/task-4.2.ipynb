{
 "cells": [
  {
   "cell_type": "code",
   "execution_count": 1,
   "id": "996f7cf0",
   "metadata": {},
   "outputs": [],
   "source": [
    "import cv2"
   ]
  },
  {
   "cell_type": "code",
   "execution_count": 2,
   "id": "83e7f101",
   "metadata": {},
   "outputs": [],
   "source": [
    "tiger = cv2.imread('Tiger1.jpg')"
   ]
  },
  {
   "cell_type": "code",
   "execution_count": 3,
   "id": "ec19f225",
   "metadata": {},
   "outputs": [],
   "source": [
    "# Resize the image\n",
    "tiger = cv2.resize(tiger , (700,700))"
   ]
  },
  {
   "cell_type": "code",
   "execution_count": 4,
   "id": "694e9ac5",
   "metadata": {},
   "outputs": [
    {
     "data": {
      "text/plain": [
       "(700, 700, 3)"
      ]
     },
     "execution_count": 4,
     "metadata": {},
     "output_type": "execute_result"
    }
   ],
   "source": [
    "tiger.shape"
   ]
  },
  {
   "cell_type": "code",
   "execution_count": 5,
   "id": "61dc7035",
   "metadata": {},
   "outputs": [],
   "source": [
    "dog = cv2.imread('Dog1.jpg')"
   ]
  },
  {
   "cell_type": "code",
   "execution_count": 6,
   "id": "2bc2ff11",
   "metadata": {},
   "outputs": [],
   "source": [
    "# Resize the image\n",
    "dog = cv2.resize(dog , (700,700))"
   ]
  },
  {
   "cell_type": "code",
   "execution_count": 7,
   "id": "8c6f9707",
   "metadata": {},
   "outputs": [
    {
     "data": {
      "text/plain": [
       "(700, 700, 3)"
      ]
     },
     "execution_count": 7,
     "metadata": {},
     "output_type": "execute_result"
    }
   ],
   "source": [
    "dog.shape"
   ]
  },
  {
   "cell_type": "code",
   "execution_count": 8,
   "id": "22d742f2",
   "metadata": {},
   "outputs": [],
   "source": [
    "# See Tiger image\n",
    "cv2.imshow('Tiger' , tiger)\n",
    "cv2.waitKey()\n",
    "cv2.destroyAllWindows()"
   ]
  },
  {
   "cell_type": "code",
   "execution_count": 9,
   "id": "6ae6f433",
   "metadata": {},
   "outputs": [],
   "source": [
    "# See Dog image\n",
    "cv2.imshow('Dog' , dog)\n",
    "cv2.waitKey()\n",
    "cv2.destroyAllWindows()"
   ]
  },
  {
   "cell_type": "code",
   "execution_count": 10,
   "id": "05b3791b",
   "metadata": {},
   "outputs": [],
   "source": [
    "# Crop image of tiger \n",
    "ctiger = tiger[100:350,400:550 ]\n",
    "cv2.imshow('T' , ctiger)\n",
    "cv2.waitKey()\n",
    "cv2.destroyAllWindows()"
   ]
  },
  {
   "cell_type": "code",
   "execution_count": null,
   "id": "c7cfe942",
   "metadata": {},
   "outputs": [],
   "source": [
    "ctiger.shape"
   ]
  },
  {
   "cell_type": "code",
   "execution_count": 11,
   "id": "51222c20",
   "metadata": {},
   "outputs": [],
   "source": [
    "# Crop dog Image\n",
    "cdog = dog[0:250,250:400]\n",
    "cv2.imshow('D' , cdog)\n",
    "cv2.waitKey()\n",
    "cv2.destroyAllWindows()"
   ]
  },
  {
   "cell_type": "code",
   "execution_count": null,
   "id": "83b03f6f",
   "metadata": {},
   "outputs": [],
   "source": [
    "cdog.shape"
   ]
  },
  {
   "cell_type": "code",
   "execution_count": 12,
   "id": "559b91a9",
   "metadata": {},
   "outputs": [],
   "source": [
    "import numpy as np"
   ]
  },
  {
   "cell_type": "code",
   "execution_count": 13,
   "id": "5d9b044d",
   "metadata": {},
   "outputs": [],
   "source": [
    "# Copy  both crop images to other variables\n",
    "crop_dog =np.copy(cdog)\n",
    "crop_tiger = np.copy(ctiger)"
   ]
  },
  {
   "cell_type": "markdown",
   "id": "ff493077",
   "metadata": {},
   "source": [
    "# Add Dog Face on Tiger Image"
   ]
  },
  {
   "cell_type": "code",
   "execution_count": 14,
   "id": "7f5f89fc",
   "metadata": {},
   "outputs": [],
   "source": [
    "#Add Dog Face on Tiger Image\n",
    "tiger[100:350,400:550 ]=crop_dog\n",
    "cv2.imshow('Dog_Face' , tiger)\n",
    "cv2.waitKey()\n",
    "cv2.destroyAllWindows()"
   ]
  },
  {
   "cell_type": "markdown",
   "id": "419d8249",
   "metadata": {},
   "source": [
    "# Add Tiger Face on Dog Image"
   ]
  },
  {
   "cell_type": "code",
   "execution_count": 15,
   "id": "20dcf738",
   "metadata": {},
   "outputs": [],
   "source": [
    "dog[0:250,250:400] = crop_tiger\n",
    "cv2.imshow('Tiger_Face' , dog)\n",
    "cv2.waitKey()\n",
    "cv2.destroyAllWindows()"
   ]
  },
  {
   "cell_type": "code",
   "execution_count": null,
   "id": "47e5cb6c",
   "metadata": {},
   "outputs": [],
   "source": []
  }
 ],
 "metadata": {
  "kernelspec": {
   "display_name": "Python 3",
   "language": "python",
   "name": "python3"
  },
  "language_info": {
   "codemirror_mode": {
    "name": "ipython",
    "version": 3
   },
   "file_extension": ".py",
   "mimetype": "text/x-python",
   "name": "python",
   "nbconvert_exporter": "python",
   "pygments_lexer": "ipython3",
   "version": "3.8.8"
  }
 },
 "nbformat": 4,
 "nbformat_minor": 5
}
