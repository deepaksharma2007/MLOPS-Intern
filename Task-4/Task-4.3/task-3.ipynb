{
 "cells": [
  {
   "cell_type": "code",
   "execution_count": 1,
   "id": "dc34351d",
   "metadata": {},
   "outputs": [],
   "source": [
    "import cv2"
   ]
  },
  {
   "cell_type": "code",
   "execution_count": 2,
   "id": "ff377207",
   "metadata": {},
   "outputs": [],
   "source": [
    "img1 = cv2.imread('image-1.jpg')"
   ]
  },
  {
   "cell_type": "code",
   "execution_count": 3,
   "id": "ef845fde",
   "metadata": {},
   "outputs": [],
   "source": [
    "img2 = cv2.imread('image-2.jpg')"
   ]
  },
  {
   "cell_type": "code",
   "execution_count": 4,
   "id": "879e638a",
   "metadata": {},
   "outputs": [],
   "source": [
    "# Resize and show image 1\n",
    "img1 = cv2.resize(img1 , (700,700))\n",
    "cv2.imshow('img1',img1 )\n",
    "cv2.waitKey()\n",
    "cv2.destroyAllWindows()"
   ]
  },
  {
   "cell_type": "code",
   "execution_count": 5,
   "id": "422cb36d",
   "metadata": {},
   "outputs": [],
   "source": [
    "# Resize and show image 2\n",
    "img2 = cv2.resize(img2 , (700,700))\n",
    "cv2.imshow('img1',img2 )\n",
    "cv2.waitKey()\n",
    "cv2.destroyAllWindows()"
   ]
  },
  {
   "cell_type": "code",
   "execution_count": 6,
   "id": "7074ca25",
   "metadata": {},
   "outputs": [],
   "source": [
    "import numpy as np"
   ]
  },
  {
   "cell_type": "code",
   "execution_count": 7,
   "id": "cf41019b",
   "metadata": {},
   "outputs": [],
   "source": [
    "Final_image = np.hstack((img1 ,img2))"
   ]
  },
  {
   "cell_type": "code",
   "execution_count": 8,
   "id": "f2108a37",
   "metadata": {},
   "outputs": [],
   "source": [
    "cv2.imshow('img1',Final_image )\n",
    "cv2.waitKey()\n",
    "cv2.destroyAllWindows()"
   ]
  },
  {
   "cell_type": "code",
   "execution_count": null,
   "id": "bf0f26c5",
   "metadata": {},
   "outputs": [],
   "source": []
  }
 ],
 "metadata": {
  "kernelspec": {
   "display_name": "Python 3",
   "language": "python",
   "name": "python3"
  },
  "language_info": {
   "codemirror_mode": {
    "name": "ipython",
    "version": 3
   },
   "file_extension": ".py",
   "mimetype": "text/x-python",
   "name": "python",
   "nbconvert_exporter": "python",
   "pygments_lexer": "ipython3",
   "version": "3.8.8"
  }
 },
 "nbformat": 4,
 "nbformat_minor": 5
}
